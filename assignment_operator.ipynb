{
 "cells": [
  {
   "cell_type": "markdown",
   "id": "2472ad6c-c870-4314-bc4a-166e1b651a53",
   "metadata": {},
   "source": [
    "# Assignment operators\n"
   ]
  },
  {
   "cell_type": "code",
   "execution_count": 1,
   "id": "34726a37-48a2-4627-8c31-36eeeefb2cb6",
   "metadata": {},
   "outputs": [
    {
     "name": "stdout",
     "output_type": "stream",
     "text": [
      " a after Addition : 15\n"
     ]
    }
   ],
   "source": [
    "a = 10 \n",
    "a += 5\n",
    "print(\" a after Addition :\", a)"
   ]
  },
  {
   "cell_type": "code",
   "execution_count": 2,
   "id": "6c361b67-45b2-4764-a3ec-0da0e2bab15c",
   "metadata": {},
   "outputs": [
    {
     "name": "stdout",
     "output_type": "stream",
     "text": [
      "Value of a : 10\n"
     ]
    }
   ],
   "source": [
    "a -= 5\n",
    "print(\"Value of a :\", a )"
   ]
  },
  {
   "cell_type": "code",
   "execution_count": 3,
   "id": "70885309-fc60-46ed-b958-0e747d0b0337",
   "metadata": {},
   "outputs": [
    {
     "name": "stdout",
     "output_type": "stream",
     "text": [
      "Value of a : 100\n"
     ]
    }
   ],
   "source": [
    "a *= 10\n",
    "print(\"Value of a :\", a)"
   ]
  },
  {
   "cell_type": "code",
   "execution_count": 4,
   "id": "cfd1f9e9-11d4-44a6-bc56-319c6cdca3fc",
   "metadata": {},
   "outputs": [
    {
     "name": "stdout",
     "output_type": "stream",
     "text": [
      "Value of a : 0\n"
     ]
    }
   ],
   "source": [
    "a %= 10\n",
    "print(\"Value of a :\", a )\n"
   ]
  },
  {
   "cell_type": "code",
   "execution_count": 5,
   "id": "b6d9c842-caae-4b3a-aa2a-ad6a825c1cb5",
   "metadata": {},
   "outputs": [
    {
     "name": "stdout",
     "output_type": "stream",
     "text": [
      "Value of b : 1.3\n"
     ]
    }
   ],
   "source": [
    "b = 65 \n",
    "c = 50\n",
    "\n",
    "b /= c\n",
    "print(\"Value of b :\", b)"
   ]
  },
  {
   "cell_type": "code",
   "execution_count": 6,
   "id": "002d7f89-63a8-4076-b112-22a3545c5fce",
   "metadata": {},
   "outputs": [
    {
     "name": "stdout",
     "output_type": "stream",
     "text": [
      " The value of b: 0.0\n"
     ]
    }
   ],
   "source": [
    "b //= c\n",
    "print(\" The value of b:\", b)"
   ]
  },
  {
   "cell_type": "code",
   "execution_count": 9,
   "id": "d6e2ac65-35e8-4fe5-87dc-0d03aedd2f03",
   "metadata": {},
   "outputs": [
    {
     "name": "stdout",
     "output_type": "stream",
     "text": [
      " The value of b : 0.0\n"
     ]
    }
   ],
   "source": [
    "b %= 15\n",
    "print(\" The value of b :\", b)"
   ]
  },
  {
   "cell_type": "code",
   "execution_count": 12,
   "id": "6f8fdb51-b995-4db9-9c19-2a73ef2303c8",
   "metadata": {},
   "outputs": [
    {
     "name": "stdout",
     "output_type": "stream",
     "text": [
      "The value of d : 32\n"
     ]
    }
   ],
   "source": [
    "d = 2\n",
    "d **= 5\n",
    "print(\"The value of d :\", d)"
   ]
  },
  {
   "cell_type": "code",
   "execution_count": 13,
   "id": "f098ba08-bd22-4101-8651-8a1836283291",
   "metadata": {},
   "outputs": [
    {
     "name": "stdout",
     "output_type": "stream",
     "text": [
      "Value of d after left shift: 128\n"
     ]
    }
   ],
   "source": [
    "d <<= 2\n",
    "print(\"Value of d after left shift:\",d)"
   ]
  },
  {
   "cell_type": "code",
   "execution_count": 14,
   "id": "6f2e6032-9380-4745-b537-ae8352e7f9a3",
   "metadata": {},
   "outputs": [
    {
     "name": "stdout",
     "output_type": "stream",
     "text": [
      "Value of num after right shift: 2\n"
     ]
    }
   ],
   "source": [
    "num = 10 \n",
    "num >>= 2\n",
    "print(\"Value of num after right shift:\", num)"
   ]
  },
  {
   "cell_type": "code",
   "execution_count": null,
   "id": "5ddf857d-8424-4a29-8e93-1564673bf7af",
   "metadata": {},
   "outputs": [],
   "source": []
  }
 ],
 "metadata": {
  "kernelspec": {
   "display_name": "Python 3 (ipykernel)",
   "language": "python",
   "name": "python3"
  },
  "language_info": {
   "codemirror_mode": {
    "name": "ipython",
    "version": 3
   },
   "file_extension": ".py",
   "mimetype": "text/x-python",
   "name": "python",
   "nbconvert_exporter": "python",
   "pygments_lexer": "ipython3",
   "version": "3.13.5"
  }
 },
 "nbformat": 4,
 "nbformat_minor": 5
}
