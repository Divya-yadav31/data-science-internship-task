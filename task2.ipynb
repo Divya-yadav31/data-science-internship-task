{
 "cells": [
  {
   "cell_type": "markdown",
   "id": "2cc974b1-512c-4eb1-a1f9-cbf852c68828",
   "metadata": {},
   "source": [
    "Name : Divya Arvind Yadav\n",
    "Branch : IT\n",
    "task : List ,Tuple , Dictionary operations"
   ]
  },
  {
   "cell_type": "markdown",
   "id": "22eb7239-e8cd-4309-91d3-c2483c19990e",
   "metadata": {},
   "source": [
    "# List Operations"
   ]
  },
  {
   "cell_type": "code",
   "execution_count": 3,
   "id": "e7452841-fc0a-479e-bc22-62ed9ddc3cab",
   "metadata": {},
   "outputs": [
    {
     "name": "stdout",
     "output_type": "stream",
     "text": [
      "List : [1, 2, 3, 4, 5]\n"
     ]
    }
   ],
   "source": [
    "# list creation\n",
    "l1 = [1,2,3,4,5]\n",
    "print(\"List :\" , l1)"
   ]
  },
  {
   "cell_type": "code",
   "execution_count": 4,
   "id": "df65a36b-f5ee-439c-ac3f-e31d5557bbc5",
   "metadata": {},
   "outputs": [
    {
     "name": "stdout",
     "output_type": "stream",
     "text": [
      "Double the values :  [1, 2, 3, 4, 5, 1, 2, 3, 4, 5]\n"
     ]
    }
   ],
   "source": [
    "# double the each of list\n",
    "print(\"Double the values : \", l1*2)"
   ]
  },
  {
   "cell_type": "code",
   "execution_count": 5,
   "id": "dcf27911-f47c-4467-99bc-169dface01f8",
   "metadata": {},
   "outputs": [
    {
     "name": "stdout",
     "output_type": "stream",
     "text": [
      "[1, 2, 3, 4]\n"
     ]
    }
   ],
   "source": [
    "#pop () : it will delete the last element of list\n",
    "l1.pop()\n",
    "print(l1)"
   ]
  },
  {
   "cell_type": "code",
   "execution_count": 6,
   "id": "a43df529-8d9c-4a08-88dd-52dba21238c4",
   "metadata": {},
   "outputs": [
    {
     "data": {
      "text/plain": [
       "[10, 20, 30, 40, 50, 60, 70, 80, 90, 100]"
      ]
     },
     "execution_count": 6,
     "metadata": {},
     "output_type": "execute_result"
    }
   ],
   "source": [
    "l2 = [ 10,20,30,40,50,60,70,80,90,100]\n",
    "l2"
   ]
  },
  {
   "cell_type": "code",
   "execution_count": 22,
   "id": "e21dc0df-cd4f-4eec-8083-749487c8d3af",
   "metadata": {},
   "outputs": [
    {
     "name": "stdout",
     "output_type": "stream",
     "text": [
      " Reversed list :  [100, 90, 80, 70, 60, 50, 40, 30, 20, 10]\n"
     ]
    }
   ],
   "source": [
    "# reverse the list \n",
    "l2.reverse()\n",
    "print(\" Reversed list : \",l2)"
   ]
  },
  {
   "cell_type": "code",
   "execution_count": 7,
   "id": "4b2383d5-398f-4130-b959-7439dc1a12d4",
   "metadata": {},
   "outputs": [
    {
     "name": "stdout",
     "output_type": "stream",
     "text": [
      "slicing:  [10, 20, 30, 40, 50]\n"
     ]
    }
   ],
   "source": [
    "# slicing \n",
    "print(\"slicing: \", l2[0:5])"
   ]
  },
  {
   "cell_type": "code",
   "execution_count": 19,
   "id": "5e766fa5-4b12-4ead-bb0f-373d24df9768",
   "metadata": {},
   "outputs": [
    {
     "name": "stdout",
     "output_type": "stream",
     "text": [
      " Slicing by negative indexing :  [60, 70, 80]\n"
     ]
    }
   ],
   "source": [
    "# Negative inndexing \n",
    "print(\" Slicing by negative indexing : \", l2[-5:-2])"
   ]
  },
  {
   "cell_type": "code",
   "execution_count": 8,
   "id": "41fc0e8f-f322-47c8-a292-ff73cb315eb1",
   "metadata": {},
   "outputs": [
    {
     "name": "stdout",
     "output_type": "stream",
     "text": [
      "3\n"
     ]
    }
   ],
   "source": [
    "# It will find the index of specified number\n",
    "print(l2.index(40))"
   ]
  },
  {
   "cell_type": "code",
   "execution_count": 28,
   "id": "bca6621f-b8db-4fc5-a47b-e6550716e399",
   "metadata": {},
   "outputs": [
    {
     "name": "stdout",
     "output_type": "stream",
     "text": [
      "sort :  [14, 23, 23, 45, 76, 98]\n"
     ]
    }
   ],
   "source": [
    "# sort by \n",
    "l3 = [23,45,76,98,23,14]\n",
    "l3.sort()\n",
    "print(\"sort : \", l3)"
   ]
  },
  {
   "cell_type": "code",
   "execution_count": 40,
   "id": "988a01c4-abad-41d8-915b-b66b4a9b9db9",
   "metadata": {},
   "outputs": [
    {
     "name": "stdout",
     "output_type": "stream",
     "text": [
      "[14, 45, 76, 98, 11, 22, 33, 45, 11, 22, 33, 45, 11, 22, 33, 45, 11, 22, 33, 45]\n"
     ]
    }
   ],
   "source": [
    "# extend () : adds multiple elements \n",
    "l3.extend([11,22,33,45])\n",
    "print(l3)"
   ]
  },
  {
   "cell_type": "code",
   "execution_count": 47,
   "id": "30042a6f-9c29-4b0b-952a-b50a293af573",
   "metadata": {},
   "outputs": [
    {
     "name": "stdout",
     "output_type": "stream",
     "text": [
      " count of 22 :  0\n"
     ]
    }
   ],
   "source": [
    "# count() : It will count how duplicates of a specific number is repeated\n",
    "c_22 = l3.count(22)\n",
    "print(\" count of 22 : \" , c_22)"
   ]
  },
  {
   "cell_type": "code",
   "execution_count": 53,
   "id": "c8cf9f79-84ea-44e8-8eaa-7fd3daf9c08a",
   "metadata": {},
   "outputs": [
    {
     "name": "stdout",
     "output_type": "stream",
     "text": [
      "After removing :  [12, 23, 5, 6, 7, 89]\n"
     ]
    }
   ],
   "source": [
    "#Remove () : it will remove the specified element\n",
    "l4 = [12,23,4,5,6,7,89]\n",
    "l4.remove(4)\n",
    "print(\"After removing : \" , l4)"
   ]
  },
  {
   "cell_type": "markdown",
   "id": "8dc3785d-e1ef-44eb-81a9-dbc3fbb04632",
   "metadata": {},
   "source": [
    "# Tuple functions"
   ]
  },
  {
   "cell_type": "code",
   "execution_count": 55,
   "id": "9b16ff66-94b0-4b98-ab83-c09fc5a41b39",
   "metadata": {},
   "outputs": [
    {
     "name": "stdout",
     "output_type": "stream",
     "text": [
      " Number of 2 :  5\n"
     ]
    }
   ],
   "source": [
    "# counts how many times specified element exists \n",
    "t1= (1,2,3,4,5,2,2,2,2)\n",
    "count = t1.count(2)\n",
    "print(\" Number of 2 : \", count)"
   ]
  },
  {
   "cell_type": "code",
   "execution_count": 57,
   "id": "ab97eb90-d729-4f37-b614-7473033d902e",
   "metadata": {},
   "outputs": [
    {
     "name": "stdout",
     "output_type": "stream",
     "text": [
      "The index of 3 :  2\n"
     ]
    }
   ],
   "source": [
    "#index of a specific element \n",
    "print(\"The index of 3 : \",t1.index(3))\n"
   ]
  },
  {
   "cell_type": "code",
   "execution_count": 58,
   "id": "f1858589-1a46-4f5d-89c6-e44e158bcf4f",
   "metadata": {},
   "outputs": [
    {
     "name": "stdout",
     "output_type": "stream",
     "text": [
      "The length of tuple : 9\n"
     ]
    }
   ],
   "source": [
    "#len() : the length of elements in atuple \n",
    "length = len(t1)\n",
    "print(\"The length of tuple :\", length)"
   ]
  },
  {
   "cell_type": "code",
   "execution_count": 59,
   "id": "62a2a0ee-659a-48dc-b52c-1ec6cd1eec46",
   "metadata": {},
   "outputs": [
    {
     "name": "stdout",
     "output_type": "stream",
     "text": [
      "maximum element of a tuple :  5\n"
     ]
    }
   ],
   "source": [
    "# max() : returns the maximum element of a tuple \n",
    "print(\"maximum element of a tuple : \" , max(t1))"
   ]
  },
  {
   "cell_type": "code",
   "execution_count": 60,
   "id": "7938ca6e-c809-41f9-8fbf-d78ae0a9ef16",
   "metadata": {},
   "outputs": [
    {
     "name": "stdout",
     "output_type": "stream",
     "text": [
      "minimum element of a tuple :  1\n"
     ]
    }
   ],
   "source": [
    "# min() : returns the minimum element of a tuple \n",
    "print(\"minimum element of a tuple : \", min(t1))"
   ]
  },
  {
   "cell_type": "code",
   "execution_count": 61,
   "id": "babccd69-6d89-4b8c-a468-f5b9f44b4d08",
   "metadata": {},
   "outputs": [
    {
     "name": "stdout",
     "output_type": "stream",
     "text": [
      "Returns the sum of a tuple : 23\n"
     ]
    }
   ],
   "source": [
    "# sum() : returns the sum of a tuple \n",
    "print(\"Returns the sum of a tuple :\",sum(t1))"
   ]
  },
  {
   "cell_type": "code",
   "execution_count": 62,
   "id": "7c197251-554b-4ed4-a954-6a09002941a0",
   "metadata": {},
   "outputs": [
    {
     "name": "stdout",
     "output_type": "stream",
     "text": [
      "Sorted list : [13, 32, 45, 54, 65, 67, 87]\n"
     ]
    }
   ],
   "source": [
    "# sorted() : returns the sorted tuple\n",
    "t2 = (32,13,54,65,45,67,87)\n",
    "print(\"Sorted list :\",sorted(t2))"
   ]
  },
  {
   "cell_type": "code",
   "execution_count": 106,
   "id": "0b474d29-516e-49b9-827e-4188227dc05a",
   "metadata": {},
   "outputs": [
    {
     "name": "stdout",
     "output_type": "stream",
     "text": [
      "Slicing : (2, 3, 4)\n"
     ]
    }
   ],
   "source": [
    "# slicing in a tuple \n",
    "print(\"Slicing :\", t1[1:4])"
   ]
  },
  {
   "cell_type": "code",
   "execution_count": 109,
   "id": "f6fd477b-a24f-4e83-a64c-c0fc894ef804",
   "metadata": {},
   "outputs": [
    {
     "name": "stdout",
     "output_type": "stream",
     "text": [
      "John\n"
     ]
    }
   ],
   "source": [
    "# packing and unpacking \n",
    "person = (\"John\", 25, \"Engineer\")\n",
    "(name, age, profession) = person\n",
    "print(name)\n"
   ]
  },
  {
   "cell_type": "code",
   "execution_count": 111,
   "id": "00ca1934-74e9-4c39-be81-7f381caff994",
   "metadata": {},
   "outputs": [
    {
     "name": "stdout",
     "output_type": "stream",
     "text": [
      "Repeat tuple 4 times : (1, 20, 30, 1, 20, 30, 1, 20, 30, 1, 20, 30)\n"
     ]
    }
   ],
   "source": [
    "# repeat  the tuple for specified number of times\n",
    "t3 =(1,20,30)\n",
    "print(\"Repeat tuple 4 times :\" ,t3 *4)"
   ]
  },
  {
   "cell_type": "code",
   "execution_count": 114,
   "id": "0974e100-2923-45f7-b6f8-48e17bf0c05b",
   "metadata": {},
   "outputs": [
    {
     "name": "stdout",
     "output_type": "stream",
     "text": [
      "True\n"
     ]
    }
   ],
   "source": [
    "# membership opertor \n",
    "print(20 in t3 )"
   ]
  },
  {
   "cell_type": "markdown",
   "id": "6e9e13b9-b451-4091-84c1-17987c36fe9c",
   "metadata": {},
   "source": [
    "# dictionary functions"
   ]
  },
  {
   "cell_type": "code",
   "execution_count": 93,
   "id": "04cf1068-5db4-4acf-baeb-5a1bbebe80d4",
   "metadata": {},
   "outputs": [
    {
     "name": "stdout",
     "output_type": "stream",
     "text": [
      "{'name': 'Divya', 'age': 17, 'subject': 'maths'}\n"
     ]
    }
   ],
   "source": [
    "# creating and printing the dictionary \n",
    "d1 = {\"name\" : \"Divya\" , \"age\" : 17 , \"subject\" : \"maths\"}\n",
    "print(d1)"
   ]
  },
  {
   "cell_type": "code",
   "execution_count": 94,
   "id": "32ee186c-ce17-4128-8cb2-b2bff752f0d1",
   "metadata": {},
   "outputs": [
    {
     "name": "stdout",
     "output_type": "stream",
     "text": [
      "Name : Divya\n"
     ]
    }
   ],
   "source": [
    "# get () : to get a data from particular key \n",
    "print(\"Name :\", d1.get(\"name\"))"
   ]
  },
  {
   "cell_type": "code",
   "execution_count": 95,
   "id": "d27b76b9-ef7e-4a5c-a174-3bed48c812a0",
   "metadata": {},
   "outputs": [
    {
     "name": "stdout",
     "output_type": "stream",
     "text": [
      "pop element : maths\n"
     ]
    }
   ],
   "source": [
    "# pop() : will delete that particular key with data \n",
    "print(\"pop element :\", d1.pop(\"subject\"))"
   ]
  },
  {
   "cell_type": "code",
   "execution_count": 96,
   "id": "15609dad-6267-412f-8f84-0f73b74ef06c",
   "metadata": {},
   "outputs": [
    {
     "name": "stdout",
     "output_type": "stream",
     "text": [
      "{'name': 'Divya', 'age': 18}\n"
     ]
    }
   ],
   "source": [
    "# update () : it will update the data \n",
    "d1.update({\"age\" :18})\n",
    "print(d1)"
   ]
  },
  {
   "cell_type": "code",
   "execution_count": 97,
   "id": "61bbb11c-19b9-422d-9e98-79a76166c19f",
   "metadata": {},
   "outputs": [
    {
     "name": "stdout",
     "output_type": "stream",
     "text": [
      "dict_items([('name', 'Divya'), ('age', 18)])\n"
     ]
    }
   ],
   "source": [
    "# it will print the dictionary items\n",
    "print(d1.items())"
   ]
  },
  {
   "cell_type": "code",
   "execution_count": 98,
   "id": "6222db40-4eca-4b58-a151-a7154704bd72",
   "metadata": {},
   "outputs": [
    {
     "name": "stdout",
     "output_type": "stream",
     "text": [
      "{'name': 'Divya', 'age': 18, 'subject': 'maths'}\n"
     ]
    }
   ],
   "source": [
    "# to add new key value pair ina existing dictionary\n",
    "d1[\"subject\"] = \"maths\"\n",
    "print(d1)"
   ]
  },
  {
   "cell_type": "code",
   "execution_count": 99,
   "id": "4e7aa257-4d62-4ebb-8241-79e4e41a9766",
   "metadata": {},
   "outputs": [
    {
     "data": {
      "text/plain": [
       "18"
      ]
     },
     "execution_count": 99,
     "metadata": {},
     "output_type": "execute_result"
    }
   ],
   "source": [
    "# setdefault(): it will save a default value \n",
    "d1.setdefault(\"age\" ,18)"
   ]
  },
  {
   "cell_type": "code",
   "execution_count": 102,
   "id": "76fd66ec-21db-4250-8157-4da04e0154a8",
   "metadata": {},
   "outputs": [
    {
     "name": "stdout",
     "output_type": "stream",
     "text": [
      "dict_values(['Divya', 18, 'maths'])\n"
     ]
    }
   ],
   "source": [
    "# values() : it will print only values\n",
    "print(d1.values())"
   ]
  },
  {
   "cell_type": "code",
   "execution_count": 104,
   "id": "53813cd5-826d-412e-a84d-431f84f7cd4f",
   "metadata": {},
   "outputs": [
    {
     "name": "stdout",
     "output_type": "stream",
     "text": [
      "{'name': 'Divya', 'age': 18, 'subject': 'maths'}\n"
     ]
    }
   ],
   "source": [
    "# copy() : it will copy the dictionary\n",
    "new_dict = d1.copy()\n",
    "print(new_dict)"
   ]
  },
  {
   "cell_type": "code",
   "execution_count": 112,
   "id": "6a9be0d3-bd61-4224-9da9-900e654ca05f",
   "metadata": {},
   "outputs": [
    {
     "name": "stdout",
     "output_type": "stream",
     "text": [
      "{'name': None, 'age': None, 'city': None}\n"
     ]
    }
   ],
   "source": [
    "keys = ['name', 'age', 'city']\n",
    "default_value = None\n",
    "\n",
    "new_dict = dict.fromkeys(keys, default_value)\n",
    "print(new_dict)\n"
   ]
  },
  {
   "cell_type": "code",
   "execution_count": 105,
   "id": "2003e98c-e830-4274-bb52-f12901fd9f5f",
   "metadata": {},
   "outputs": [
    {
     "name": "stdout",
     "output_type": "stream",
     "text": [
      "{}\n"
     ]
    }
   ],
   "source": [
    "# clear() : it will clear the dictionary elements\n",
    "d1.clear()\n",
    "print(d1)"
   ]
  },
  {
   "cell_type": "code",
   "execution_count": null,
   "id": "ea856229-6386-40b6-beff-67f212313b17",
   "metadata": {},
   "outputs": [],
   "source": []
  }
 ],
 "metadata": {
  "kernelspec": {
   "display_name": "Python 3 (ipykernel)",
   "language": "python",
   "name": "python3"
  },
  "language_info": {
   "codemirror_mode": {
    "name": "ipython",
    "version": 3
   },
   "file_extension": ".py",
   "mimetype": "text/x-python",
   "name": "python",
   "nbconvert_exporter": "python",
   "pygments_lexer": "ipython3",
   "version": "3.13.5"
  }
 },
 "nbformat": 4,
 "nbformat_minor": 5
}
