{
 "cells": [
  {
   "cell_type": "markdown",
   "id": "4b900dfd-ab08-48bd-9a4c-b4d3151f375f",
   "metadata": {},
   "source": [
    "# Bitwise opeators"
   ]
  },
  {
   "cell_type": "code",
   "execution_count": 3,
   "id": "85ac1dab-35eb-4bf4-be81-236e04dc5822",
   "metadata": {},
   "outputs": [],
   "source": [
    "a = 10\n",
    "b = 5"
   ]
  },
  {
   "cell_type": "code",
   "execution_count": 4,
   "id": "3d57949e-a49d-4dbf-a960-8d1dfe2ba1cd",
   "metadata": {},
   "outputs": [
    {
     "name": "stdout",
     "output_type": "stream",
     "text": [
      "a & b = 0\n"
     ]
    }
   ],
   "source": [
    "# performs bitwise & operation on a and b\n",
    "print(\"a & b =\", a & b)   \n"
   ]
  },
  {
   "cell_type": "code",
   "execution_count": 5,
   "id": "0f44d520-20d1-4bb4-a22a-42876df8a7c2",
   "metadata": {},
   "outputs": [
    {
     "name": "stdout",
     "output_type": "stream",
     "text": [
      "a | b = 15\n"
     ]
    }
   ],
   "source": [
    "# performs or operations on a and b\n",
    "print(\"a | b =\", a | b)   \n"
   ]
  },
  {
   "cell_type": "code",
   "execution_count": 6,
   "id": "2700efd1-a190-4134-b81d-8e2b917511cc",
   "metadata": {},
   "outputs": [
    {
     "name": "stdout",
     "output_type": "stream",
     "text": [
      "a ^ b = 15\n"
     ]
    }
   ],
   "source": [
    "# performs bitwise XOR operation\n",
    "print(\"a ^ b =\", a ^ b)   \n"
   ]
  },
  {
   "cell_type": "code",
   "execution_count": 7,
   "id": "341d07fe-5d87-4570-8743-5a74fb92e890",
   "metadata": {},
   "outputs": [
    {
     "name": "stdout",
     "output_type": "stream",
     "text": [
      "~a = -11\n"
     ]
    }
   ],
   "source": [
    "# performs or operations on a and b\n",
    "print(\"~a =\", ~a)         \n"
   ]
  },
  {
   "cell_type": "code",
   "execution_count": 8,
   "id": "abe3f0f8-b390-4dfb-bc3b-92fa40fee6b8",
   "metadata": {},
   "outputs": [
    {
     "name": "stdout",
     "output_type": "stream",
     "text": [
      "a << 1 = 20\n"
     ]
    }
   ],
   "source": [
    "# performs left shift opertion by 1\n",
    "print(\"a << 1 =\", a << 1) \n"
   ]
  },
  {
   "cell_type": "code",
   "execution_count": 9,
   "id": "792e686e-0e4c-46ba-8997-18b22e35964c",
   "metadata": {},
   "outputs": [
    {
     "name": "stdout",
     "output_type": "stream",
     "text": [
      "a >> 1 =  5\n"
     ]
    }
   ],
   "source": [
    "# performs right shift by 1\n",
    "print(\"a >> 1 = \", a >> 1)"
   ]
  }
 ],
 "metadata": {
  "kernelspec": {
   "display_name": "Python 3 (ipykernel)",
   "language": "python",
   "name": "python3"
  },
  "language_info": {
   "codemirror_mode": {
    "name": "ipython",
    "version": 3
   },
   "file_extension": ".py",
   "mimetype": "text/x-python",
   "name": "python",
   "nbconvert_exporter": "python",
   "pygments_lexer": "ipython3",
   "version": "3.13.5"
  }
 },
 "nbformat": 4,
 "nbformat_minor": 5
}
