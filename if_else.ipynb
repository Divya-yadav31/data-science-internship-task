{
 "cells": [
  {
   "cell_type": "code",
   "execution_count": 2,
   "id": "7de5847d-dae0-483e-ada9-3509afd956df",
   "metadata": {},
   "outputs": [
    {
     "name": "stdin",
     "output_type": "stream",
     "text": [
      "Enter a number : 5\n"
     ]
    },
    {
     "name": "stdout",
     "output_type": "stream",
     "text": [
      "5 is a odd number\n"
     ]
    }
   ],
   "source": [
    "# if else programs \n",
    "\n",
    "# find even or odd program \n",
    "\n",
    "n = int(input(\"Enter a number :\"))\n",
    "if (n%2 == 0):\n",
    "    print(n,\"is a even number\")\n",
    "else:\n",
    "    print(n,\"is a odd number\")\n",
    "    "
   ]
  },
  {
   "cell_type": "code",
   "execution_count": 4,
   "id": "392d8367-d21c-4d93-ac59-60a4d64da8f0",
   "metadata": {},
   "outputs": [
    {
     "name": "stdin",
     "output_type": "stream",
     "text": [
      "Enter a number : 0\n"
     ]
    },
    {
     "name": "stdout",
     "output_type": "stream",
     "text": [
      "Number is zero \n"
     ]
    }
   ],
   "source": [
    "# find positive , negative or zero is a number \n",
    "\n",
    "num = int(input(\"Enter a number :\"))\n",
    "if (num > 0 ):\n",
    "    print(\"Number is positive\")\n",
    "elif (num < 0) :\n",
    "    print(\"Number is negative\")\n",
    "else:\n",
    "    print(\"Number is zero \")\n",
    "    "
   ]
  },
  {
   "cell_type": "code",
   "execution_count": 7,
   "id": "64c03e81-f964-4453-87c1-2ebfb1696a2d",
   "metadata": {},
   "outputs": [
    {
     "name": "stdin",
     "output_type": "stream",
     "text": [
      "Enter a number 1: 14\n",
      "Enter a number 2: 10\n"
     ]
    },
    {
     "name": "stdout",
     "output_type": "stream",
     "text": [
      "14 is greater \n"
     ]
    }
   ],
   "source": [
    "# find largest number \n",
    "\n",
    "num1 = int(input(\"Enter a number 1:\"))\n",
    "num2 = int(input(\"Enter a number 2:\"))\n",
    "\n",
    "if (num1 > num2 ):\n",
    "    print(num1,\"is greater \")\n",
    "elif (num2 > num1) :\n",
    "    print(num2,\"is greater\")\n",
    "else:\n",
    "    print(\"Invalid number\")"
   ]
  },
  {
   "cell_type": "code",
   "execution_count": 11,
   "id": "d6265f4a-9ee2-4811-a7e0-5bac498fce51",
   "metadata": {},
   "outputs": [
    {
     "name": "stdin",
     "output_type": "stream",
     "text": [
      "Enter age : 18\n"
     ]
    },
    {
     "name": "stdout",
     "output_type": "stream",
     "text": [
      "Eligible to vote !\n"
     ]
    }
   ],
   "source": [
    "# person eligible to vote or not\n",
    "\n",
    "age = int(input(\"Enter age :\"))\n",
    "if (age >=18):\n",
    "    print(\"Eligible to vote !\")\n",
    "else :\n",
    "    print(\"Not eligible to vote\")\n",
    "    "
   ]
  },
  {
   "cell_type": "code",
   "execution_count": 17,
   "id": "33607daa-ed20-410a-9cec-feb1f047bce3",
   "metadata": {},
   "outputs": [
    {
     "name": "stdin",
     "output_type": "stream",
     "text": [
      "Enter character : A\n"
     ]
    },
    {
     "name": "stdout",
     "output_type": "stream",
     "text": [
      "Character is vowel \n"
     ]
    }
   ],
   "source": [
    "# find character is vowel or consonant\n",
    "str = input(\"Enter character :\")\n",
    "if (str == \"A\" or str == \"E\" or str == \"I\" or str == \"U\" or str ==\"a\" or str==\"e\" or str ==\"i\" or str ==\"o\" or str==\"u\") :\n",
    "        print(\"Character is vowel \")\n",
    "else:\n",
    "    print(\"Character is consonant\")\n",
    "    "
   ]
  }
 ],
 "metadata": {
  "kernelspec": {
   "display_name": "Python 3 (ipykernel)",
   "language": "python",
   "name": "python3"
  },
  "language_info": {
   "codemirror_mode": {
    "name": "ipython",
    "version": 3
   },
   "file_extension": ".py",
   "mimetype": "text/x-python",
   "name": "python",
   "nbconvert_exporter": "python",
   "pygments_lexer": "ipython3",
   "version": "3.13.5"
  }
 },
 "nbformat": 4,
 "nbformat_minor": 5
}
