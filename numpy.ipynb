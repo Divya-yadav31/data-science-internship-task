{
 "cells": [
  {
   "cell_type": "markdown",
   "id": "2318b6a2-93d3-409f-a87a-e6eaa1e5869b",
   "metadata": {},
   "source": [
    "Name : Divya Arvind Yadav\n",
    "Branch : IT \n",
    "Task : Numpy opertions"
   ]
  },
  {
   "cell_type": "code",
   "execution_count": 2,
   "id": "1f5ab23e-43c7-4e09-bb1e-6ffd967a8f70",
   "metadata": {},
   "outputs": [],
   "source": [
    "import numpy as np"
   ]
  },
  {
   "cell_type": "code",
   "execution_count": 17,
   "id": "833b77f0-04bb-420c-9936-b8ae16b9d1ec",
   "metadata": {},
   "outputs": [
    {
     "name": "stdout",
     "output_type": "stream",
     "text": [
      "[1 2 3 4 5]\n"
     ]
    }
   ],
   "source": [
    "# array creation using numpy \n",
    "a = np.array([1,2,3,4,5])\n",
    "print(a )"
   ]
  },
  {
   "cell_type": "code",
   "execution_count": 13,
   "id": "861f2d81-a2c0-4cdb-b9f9-96712c22267c",
   "metadata": {},
   "outputs": [
    {
     "name": "stdout",
     "output_type": "stream",
     "text": [
      "Sorted array:  [ 5 13 24 45 57]\n"
     ]
    }
   ],
   "source": [
    "# sort() : This will sort the given array \n",
    "a1 = np.array([5,57,13,45,24])\n",
    "print(\"Sorted array: \", np.sort(a1))"
   ]
  },
  {
   "cell_type": "code",
   "execution_count": 16,
   "id": "662448d0-10de-4808-8b5a-c719ce8131ac",
   "metadata": {},
   "outputs": [
    {
     "name": "stdout",
     "output_type": "stream",
     "text": [
      " Unique elemnts :  [1 2 3 4]\n"
     ]
    }
   ],
   "source": [
    "# unique() = It will find unique values from the array and remove duplicate values \n",
    "unique_arr = ([1,2,3,2,3,4])\n",
    "print(\" Unique elemnts : \" , np.unique(unique_arr))"
   ]
  },
  {
   "cell_type": "code",
   "execution_count": 21,
   "id": "c1968bd6-9670-45f7-918e-a8f03d0df133",
   "metadata": {},
   "outputs": [
    {
     "name": "stdout",
     "output_type": "stream",
     "text": [
      "Concated array :  [2 4 6 8]\n"
     ]
    }
   ],
   "source": [
    "# concat () : it will concat two arrays \n",
    "print(\"Concated array : \" , np.concat(([2,4],[6,8])))"
   ]
  },
  {
   "cell_type": "code",
   "execution_count": 23,
   "id": "02c206bd-abff-4604-b17f-d1d249e0d6fc",
   "metadata": {},
   "outputs": [
    {
     "name": "stdout",
     "output_type": "stream",
     "text": [
      "Addition of each element by 1 :  [2 4 6 8 9]\n"
     ]
    }
   ],
   "source": [
    "# in this it will add for each elment in array\n",
    "a2 = np.array([1,3,5,7,8])\n",
    "print(\"Addition of each element by 1 : \", a2+1)"
   ]
  },
  {
   "cell_type": "code",
   "execution_count": 24,
   "id": "fc57a831-12e0-4a55-b7ff-f1b3b7ec3f6f",
   "metadata": {},
   "outputs": [
    {
     "name": "stdout",
     "output_type": "stream",
     "text": [
      "Multiplication of each element by 10:  [10 30 50 70 80]\n"
     ]
    }
   ],
   "source": [
    "# in this it will multiply each element of array\n",
    "print(\"Multiplication of each element by 10: \", a2 * 10)"
   ]
  },
  {
   "cell_type": "code",
   "execution_count": 25,
   "id": "d059abdf-1a10-4a3a-be72-c746036049cf",
   "metadata": {},
   "outputs": [
    {
     "name": "stdout",
     "output_type": "stream",
     "text": [
      "sum of array :  24\n"
     ]
    }
   ],
   "source": [
    "# sum()\n",
    "print(\"sum of array : \", np.sum(a2))"
   ]
  },
  {
   "cell_type": "code",
   "execution_count": 26,
   "id": "ef487a22-24ce-4ab0-a5f6-65640b9b1eb4",
   "metadata": {},
   "outputs": [
    {
     "name": "stdout",
     "output_type": "stream",
     "text": [
      "Mean of array:  4.8\n"
     ]
    }
   ],
   "source": [
    "#mean()\n",
    "print(\"Mean of array: \", np.mean(a2))"
   ]
  },
  {
   "cell_type": "code",
   "execution_count": 32,
   "id": "15492fba-a745-4b0a-9f6b-0661fefc3b68",
   "metadata": {},
   "outputs": [
    {
     "name": "stdout",
     "output_type": "stream",
     "text": [
      "[[ 41  44  47  50]\n",
      " [ 93 100 107 114]\n",
      " [145 156 167 178]\n",
      " [197 212 227 242]]\n"
     ]
    }
   ],
   "source": [
    "#dot(): it performs matrix wise multplication \n",
    "arr1 = np.array([[1,2],\n",
    "                 [3,4],\n",
    "                 [5,6],\n",
    "                 [7,8]])\n",
    "\n",
    "arr2 = np.array([[11,12,13,14],\n",
    "                 [15,16,17,18]])\n",
    "\n",
    "dot = np.dot(arr1, arr2)\n",
    "print(dot)\n"
   ]
  },
  {
   "cell_type": "code",
   "execution_count": 40,
   "id": "981cd578-a0f1-456d-b25e-e83a8078857e",
   "metadata": {},
   "outputs": [
    {
     "data": {
      "text/plain": [
       "array([[1, 2, 3, 4],\n",
       "       [5, 6, 7, 8]])"
      ]
     },
     "execution_count": 40,
     "metadata": {},
     "output_type": "execute_result"
    }
   ],
   "source": [
    "# reshape() : it will reshape the array \n",
    "arr1.reshape(2,4)"
   ]
  },
  {
   "cell_type": "code",
   "execution_count": 41,
   "id": "c7d1fb1d-fbe2-4cbc-8c8d-71bd601bb258",
   "metadata": {},
   "outputs": [
    {
     "name": "stdout",
     "output_type": "stream",
     "text": [
      "Size of an array : 8\n"
     ]
    }
   ],
   "source": [
    "# size : it will find the size of an array\n",
    "print(\"Size of an array :\" , arr1.size)"
   ]
  },
  {
   "cell_type": "code",
   "execution_count": 39,
   "id": "b7e01835-cd86-42a3-9056-49508959efaa",
   "metadata": {},
   "outputs": [
    {
     "name": "stdout",
     "output_type": "stream",
     "text": [
      "(4, 2)\n"
     ]
    }
   ],
   "source": [
    "# shape(): it will print shape of an arrray means rows & columns \n",
    "print(arr1.shape)"
   ]
  },
  {
   "cell_type": "code",
   "execution_count": 42,
   "id": "9f693bdf-6644-450b-9242-5cbec57e5232",
   "metadata": {},
   "outputs": [
    {
     "name": "stdout",
     "output_type": "stream",
     "text": [
      "2\n"
     ]
    }
   ],
   "source": [
    "#ndim() : no. of dimensions \n",
    "print(arr1.ndim)"
   ]
  },
  {
   "cell_type": "code",
   "execution_count": null,
   "id": "d927d0e5-4ce8-471b-a486-9034d7030e96",
   "metadata": {},
   "outputs": [],
   "source": []
  }
 ],
 "metadata": {
  "kernelspec": {
   "display_name": "Python 3 (ipykernel)",
   "language": "python",
   "name": "python3"
  },
  "language_info": {
   "codemirror_mode": {
    "name": "ipython",
    "version": 3
   },
   "file_extension": ".py",
   "mimetype": "text/x-python",
   "name": "python",
   "nbconvert_exporter": "python",
   "pygments_lexer": "ipython3",
   "version": "3.13.5"
  }
 },
 "nbformat": 4,
 "nbformat_minor": 5
}
