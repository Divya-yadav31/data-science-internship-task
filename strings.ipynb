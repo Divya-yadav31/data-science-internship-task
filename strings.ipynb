{
 "cells": [
  {
   "cell_type": "code",
   "execution_count": 7,
   "id": "c2956917-5635-46a7-91a4-e6d17fa64bb6",
   "metadata": {},
   "outputs": [],
   "source": [
    "s = \" data science\"\n"
   ]
  },
  {
   "cell_type": "code",
   "execution_count": 2,
   "id": "d3531297-4847-4dfe-8a16-5eed2694c869",
   "metadata": {},
   "outputs": [
    {
     "name": "stdout",
     "output_type": "stream",
     "text": [
      "length of string : 13\n"
     ]
    }
   ],
   "source": [
    "#length function = counts the no. of characters\n",
    "print(\"length of string :\",len(s))"
   ]
  },
  {
   "cell_type": "code",
   "execution_count": 3,
   "id": "55003e2b-476e-4e8d-8a7d-d488faa27247",
   "metadata": {},
   "outputs": [
    {
     "name": "stdout",
     "output_type": "stream",
     "text": [
      "before replace :  data science\n",
      "After replace:   data analysis\n"
     ]
    }
   ],
   "source": [
    "# replace() function \n",
    "print(\"before replace :\",s)\n",
    "print(\"After replace: \",s.replace(\"science\", \"analysis\"))"
   ]
  },
  {
   "cell_type": "code",
   "execution_count": 8,
   "id": "f2c22888-31bc-48eb-abf1-fffe0449ca6b",
   "metadata": {},
   "outputs": [
    {
     "name": "stdout",
     "output_type": "stream",
     "text": [
      "Split string : ['C ', ' python ']\n"
     ]
    }
   ],
   "source": [
    "#split()\n",
    "s1 = (\"C , python \")\n",
    "st = s1.split(\",\")\n",
    "print(\"Split string :\", st)"
   ]
  },
  {
   "cell_type": "code",
   "execution_count": 17,
   "id": "94919ea7-bd60-45b9-ab45-31b550e1fad0",
   "metadata": {},
   "outputs": [
    {
     "name": "stdout",
     "output_type": "stream",
     "text": [
      "hello world\n",
      "\n"
     ]
    }
   ],
   "source": [
    "#join() = joins list into strings  strings \n",
    "a =\"\"\n",
    "print(a.join(['hello ' , 'world']))\n",
    "print(a)"
   ]
  },
  {
   "cell_type": "code",
   "execution_count": 19,
   "id": "9e7a59f2-4758-441a-8e6d-76a8b8981830",
   "metadata": {},
   "outputs": [
    {
     "name": "stdout",
     "output_type": "stream",
     "text": [
      "True\n"
     ]
    }
   ],
   "source": [
    "#startswith()\n",
    "a = \"apple\"\n",
    "print(a.startswith(\"a\"))"
   ]
  },
  {
   "cell_type": "code",
   "execution_count": 20,
   "id": "4d6efa1c-deea-41c2-b800-96fa6bbdf482",
   "metadata": {},
   "outputs": [
    {
     "name": "stdout",
     "output_type": "stream",
     "text": [
      "True\n"
     ]
    }
   ],
   "source": [
    "# endswith()\n",
    "b = \"science\"\n",
    "print(b.endswith(\"e\"))"
   ]
  },
  {
   "cell_type": "code",
   "execution_count": 23,
   "id": "d134f309-b9c3-4c12-9f2b-dfdb35e49568",
   "metadata": {},
   "outputs": [
    {
     "name": "stdout",
     "output_type": "stream",
     "text": [
      "False\n"
     ]
    }
   ],
   "source": [
    "# isdigit()\n",
    "c = \"hii\"\n",
    "print(c.isdigit())"
   ]
  },
  {
   "cell_type": "code",
   "execution_count": 26,
   "id": "0284be87-3f8c-49e5-b489-969cc7817187",
   "metadata": {},
   "outputs": [
    {
     "name": "stdout",
     "output_type": "stream",
     "text": [
      "1\n"
     ]
    }
   ],
   "source": [
    "#find()\n",
    "print(s.find(\"d\"))"
   ]
  },
  {
   "cell_type": "code",
   "execution_count": 31,
   "id": "57b26d83-5c57-4751-9359-ce775ef2cb13",
   "metadata": {},
   "outputs": [
    {
     "name": "stdout",
     "output_type": "stream",
     "text": [
      "divya\n"
     ]
    }
   ],
   "source": [
    "#strip()\n",
    "str = \"divya\"\n",
    "print(str.strip())"
   ]
  },
  {
   "cell_type": "code",
   "execution_count": 32,
   "id": "17586749-daeb-4d8f-b88d-0f4e066ae873",
   "metadata": {},
   "outputs": [
    {
     "name": "stdout",
     "output_type": "stream",
     "text": [
      "index of y :  3\n"
     ]
    }
   ],
   "source": [
    "# index ()\n",
    "print(\"index of y : \",str.index(\"y\"))\n"
   ]
  },
  {
   "cell_type": "code",
   "execution_count": null,
   "id": "f097748c-5247-4362-82e8-ddee6f904e72",
   "metadata": {},
   "outputs": [],
   "source": []
  }
 ],
 "metadata": {
  "kernelspec": {
   "display_name": "Python 3 (ipykernel)",
   "language": "python",
   "name": "python3"
  },
  "language_info": {
   "codemirror_mode": {
    "name": "ipython",
    "version": 3
   },
   "file_extension": ".py",
   "mimetype": "text/x-python",
   "name": "python",
   "nbconvert_exporter": "python",
   "pygments_lexer": "ipython3",
   "version": "3.13.5"
  }
 },
 "nbformat": 4,
 "nbformat_minor": 5
}
